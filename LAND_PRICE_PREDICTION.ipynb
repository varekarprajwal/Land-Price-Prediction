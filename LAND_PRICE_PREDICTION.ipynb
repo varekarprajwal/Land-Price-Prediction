{
  "nbformat": 4,
  "nbformat_minor": 0,
  "metadata": {
    "colab": {
      "provenance": [],
      "authorship_tag": "ABX9TyP0SHrBrgdGu6inZtKPPoni",
      "include_colab_link": true
    },
    "kernelspec": {
      "name": "python3",
      "display_name": "Python 3"
    },
    "language_info": {
      "name": "python"
    }
  },
  "cells": [
    {
      "cell_type": "markdown",
      "metadata": {
        "id": "view-in-github",
        "colab_type": "text"
      },
      "source": [
        "<a href=\"https://colab.research.google.com/github/varekarprajwal/LAND_PRICE_PREDICTION/blob/main/LAND_PRICE_PREDICTION.ipynb\" target=\"_parent\"><img src=\"https://colab.research.google.com/assets/colab-badge.svg\" alt=\"Open In Colab\"/></a>"
      ]
    },
    {
      "cell_type": "code",
      "execution_count": null,
      "metadata": {
        "cellView": "form",
        "id": "S0C9pTg2r_Dg"
      },
      "outputs": [],
      "source": [
        "#@title Importing required library\n",
        "import pandas as pd\n",
        "from sklearn.model_selection import train_test_split\n",
        "from sklearn.linear_model import LinearRegression\n",
        "from sklearn.preprocessing import LabelEncoder\n",
        "import matplotlib.pyplot as plt"
      ]
    },
    {
      "cell_type": "code",
      "source": [
        "#@title Import Data set\n",
        "df=pd.read_csv(\"data.csv\")"
      ],
      "metadata": {
        "id": "FYUatNP0yAT9",
        "cellView": "form"
      },
      "execution_count": null,
      "outputs": []
    },
    {
      "cell_type": "code",
      "source": [
        "#@title Data analysis & Training\n",
        "model=LinearRegression()\n",
        "\n",
        "df.isnull().sum()\n",
        "city=LabelEncoder()\n",
        "soil=LabelEncoder()\n",
        "water=LabelEncoder()\n",
        "weather=LabelEncoder()\n",
        "c1=city.fit_transform(df[\"Near city\"])\n",
        "s1=soil.fit_transform(df[\"Soil fertility\"])\n",
        "w1=water.fit_transform(df[\"Water Source\"])\n",
        "w2=weather.fit_transform(df[\"Weather condtion\"])\n",
        "dfnew=df\n",
        "dfnew[\"Near city\"]=c1\n",
        "dfnew[\"Soil fertility\"]=s1\n",
        "dfnew[\"Water Source\"]=w1\n",
        "dfnew[\"Weather condtion\"]=w2\n",
        "x=df[[\"Area\",\"Near city\",\"Soil fertility\",\"Water Source\",\"Weather condtion\",\"Year\"]]\n",
        "y=df.Price\n",
        "trainx,testx,trainy,testy=train_test_split(x,y,test_size=10)\n",
        "model.fit(trainx,trainy)"
      ],
      "metadata": {
        "id": "Ri4tiq6Xsr0G",
        "cellView": "form"
      },
      "execution_count": null,
      "outputs": []
    },
    {
      "cell_type": "code",
      "source": [
        "#@title Score check\n",
        "model.score(trainx,trainy)\n",
        "model.predict(testx)\n",
        "testy"
      ],
      "metadata": {
        "colab": {
          "base_uri": "https://localhost:8080/"
        },
        "id": "lA1cBeUbst8s",
        "outputId": "2f25f345-0ecb-4cd7-c79e-4b922787beb8",
        "cellView": "form"
      },
      "execution_count": null,
      "outputs": [
        {
          "output_type": "execute_result",
          "data": {
            "text/plain": [
              "148     78.0\n",
              "305     83.5\n",
              "163     18.5\n",
              "360     63.0\n",
              "193     48.5\n",
              "295     76.5\n",
              "318    101.0\n",
              "250     36.0\n",
              "135     64.5\n",
              "241     23.5\n",
              "Name: Price, dtype: float64"
            ]
          },
          "metadata": {},
          "execution_count": 12
        }
      ]
    },
    {
      "cell_type": "code",
      "source": [
        "#@title Prediction of real data\n",
        "a=float(input(\"are of the land in acre: \"))\n",
        "c=int(input(\"land is near to city then 1 or 0 : \"))\n",
        "s=int(input(\"land has fertile soil then 0 or 1 :\"))\n",
        "w=int(input(\"land has water source then 1 or 0 : \"))\n",
        "r=int(input(\"land has good weather then 1 or 0 : \"))\n",
        "n=int(input(\"enter the year : \"))\n",
        "model.predict([[a,c,s,w,r,n]])"
      ],
      "metadata": {
        "colab": {
          "base_uri": "https://localhost:8080/"
        },
        "cellView": "form",
        "id": "1bQ8pe9n0KPr",
        "outputId": "e2d0dbeb-6df4-4229-e464-eac938325ac2"
      },
      "execution_count": null,
      "outputs": [
        {
          "name": "stdout",
          "output_type": "stream",
          "text": [
            "are of the land in acre: 2\n",
            "land is near to city then 1 or 0 : 1\n",
            "land has fertile soil then 0 or 1 :0\n",
            "land has water source then 1 or 0 : 1\n",
            "land has good weather then 1 or 0 : 1\n",
            "enter the year : 2020\n"
          ]
        },
        {
          "output_type": "stream",
          "name": "stderr",
          "text": [
            "/usr/local/lib/python3.10/dist-packages/sklearn/base.py:439: UserWarning: X does not have valid feature names, but LinearRegression was fitted with feature names\n",
            "  warnings.warn(\n"
          ]
        },
        {
          "output_type": "execute_result",
          "data": {
            "text/plain": [
              "array([56.85239521])"
            ]
          },
          "metadata": {},
          "execution_count": 14
        }
      ]
    }
  ]
}